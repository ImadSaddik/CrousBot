{
 "cells": [
  {
   "cell_type": "code",
   "execution_count": 1,
   "metadata": {},
   "outputs": [
    {
     "data": {
      "text/plain": [
       "True"
      ]
     },
     "execution_count": 1,
     "metadata": {},
     "output_type": "execute_result"
    }
   ],
   "source": [
    "import os\n",
    "import time\n",
    "import requests\n",
    "from bs4 import BeautifulSoup\n",
    "\n",
    "from dotenv import load_dotenv\n",
    "\n",
    "import smtplib\n",
    "from email.mime.text import MIMEText\n",
    "from email.mime.multipart import MIMEMultipart\n",
    "\n",
    "load_dotenv()"
   ]
  },
  {
   "cell_type": "code",
   "execution_count": 9,
   "metadata": {},
   "outputs": [
    {
     "data": {
      "text/plain": [
       "<Response [200]>"
      ]
     },
     "execution_count": 9,
     "metadata": {},
     "output_type": "execute_result"
    }
   ],
   "source": [
    "url = \"https://trouverunlogement.lescrous.fr/tools/36/search\"\n",
    "\n",
    "response = requests.get(url)\n",
    "response"
   ]
  },
  {
   "cell_type": "code",
   "execution_count": 12,
   "metadata": {},
   "outputs": [
    {
     "name": "stdout",
     "output_type": "stream",
     "text": [
      "Found an individual appartment, Residence Pascal MARTIN\n",
      "Found an individual appartment, ROLAND BARTHES\n",
      "Found an individual appartment, Residence Pascal Paoli 2\n",
      "Found an individual appartment, Residence Antoine CASANOVA\n",
      "Found an individual appartment, Residence J.P. Sartre\n",
      "Found an individual appartment, TANNERIES\n",
      "Found an individual appartment, Residence Pierrette Grimaldi\n",
      "Found an individual appartment, RÃ©sidence de Felletin\n",
      "Found an individual appartment, Residence Farrandu ETTORI\n",
      "Found an individual appartment, BIDART\n",
      "Found an individual appartment, Residence Christophe GARELLI\n",
      "Found an individual appartment, Residence Pierrette Grimaldi\n",
      "Found an individual appartment, ERLEAK\n",
      "Found an individual appartment, ANDRE MALRAUX\n",
      "Found an individual appartment, ARANCETTE\n",
      "Found an individual appartment, RESIDENCE ROANNE\n",
      "Found an individual appartment, RESIDENCE CLERISSEAU\n",
      "Found an individual appartment, MAISON DES ETUDIANTS\n",
      "Found an individual appartment, JB CLEMENT\n",
      "Found an individual appartment, BAZEILLES\n"
     ]
    }
   ],
   "source": [
    "if response.status_code == 200:\n",
    "    soup = BeautifulSoup(response.text, \"html.parser\")\n",
    "    search_result = soup.find(\"h2\", class_=\"SearchResults-desktop\")\n",
    "\n",
    "    if search_result:\n",
    "        message = search_result.get_text(strip=True)\n",
    "        if \"Aucun logement\" not in message:\n",
    "            aprtment_cards = soup.find_all(\n",
    "                \"li\", class_=\"fr-col-12 fr-col-sm-6 fr-col-md-4 svelte-11sc5my fr-col-lg-4\")\n",
    "\n",
    "            for card in aprtment_cards:\n",
    "                card_detail = card.find(\n",
    "                    \"p\", class_=\"fr-card__detail fr-icon-group-fill\")\n",
    "                card_colocation_or_individual_text = card_detail.get_text(\n",
    "                    strip=True)\n",
    "\n",
    "                if card_colocation_or_individual_text == \"Colocation\":\n",
    "                    continue\n",
    "                elif card_colocation_or_individual_text == \"Individuel\":\n",
    "                    apartment_title = card.find(\n",
    "                        \"h3\", class_=\"fr-card__title\").get_text(strip=True)\n",
    "                    print(f\"Found an individual appartment, {apartment_title}\")"
   ]
  },
  {
   "cell_type": "code",
   "execution_count": 14,
   "metadata": {},
   "outputs": [],
   "source": [
    "import traceback\n",
    "\n",
    "\n",
    "def check_for_new_offers(location, url):\n",
    "    response = requests.get(url)\n",
    "\n",
    "    if response.status_code == 200:\n",
    "        soup = BeautifulSoup(response.text, \"html.parser\")\n",
    "        search_result = soup.find(\"h2\", class_=\"SearchResults-desktop\")\n",
    "\n",
    "        if search_result:\n",
    "            message = search_result.get_text(strip=True)\n",
    "\n",
    "            if \"Aucun logement\" not in message:\n",
    "                log_content(location, message)\n",
    "                # send_email(location, message, url, os.getenv(\"RECEIVER_EMAIL\"))\n",
    "                send_email(location, message, url, \"simad3647@gmail.com\")\n",
    "\n",
    "\n",
    "def log_content(location, message):\n",
    "    log_entry = f\"{location.ljust(60)}: {message}\\n\"\n",
    "    logger.info(log_entry)\n",
    "\n",
    "\n",
    "def send_email(location, message, url, receiver_email):\n",
    "    sender_email = os.getenv(\"SENDER_EMAIL\")\n",
    "    sender_password = os.getenv(\"SENDER_PASSWORD\")\n",
    "\n",
    "    subject = \"New Apartment Offers\"\n",
    "    body = f\"There are new apartment offers in \\\n",
    "        {location}: {message}\\nurl : {url}\"\n",
    "\n",
    "    msg = MIMEMultipart()\n",
    "    msg[\"From\"] = sender_email\n",
    "    msg[\"To\"] = receiver_email\n",
    "    msg[\"Subject\"] = subject\n",
    "\n",
    "    msg.attach(MIMEText(body, \"plain\"))\n",
    "\n",
    "    try:\n",
    "        with smtplib.SMTP(\"smtp.gmail.com\", 587) as server:\n",
    "            server.starttls()\n",
    "            server.login(sender_email, sender_password)\n",
    "            text = msg.as_string()\n",
    "            server.sendmail(sender_email, receiver_email, text)\n",
    "            print(f\"Email notification sent for {location}\")\n",
    "    except Exception as e:\n",
    "        print(f\"Error sending email: {e}\")\n",
    "        traceback.print_exc()"
   ]
  },
  {
   "cell_type": "code",
   "execution_count": null,
   "metadata": {},
   "outputs": [],
   "source": []
  }
 ],
 "metadata": {
  "kernelspec": {
   "display_name": "apod",
   "language": "python",
   "name": "python3"
  },
  "language_info": {
   "codemirror_mode": {
    "name": "ipython",
    "version": 3
   },
   "file_extension": ".py",
   "mimetype": "text/x-python",
   "name": "python",
   "nbconvert_exporter": "python",
   "pygments_lexer": "ipython3",
   "version": "3.11.9"
  }
 },
 "nbformat": 4,
 "nbformat_minor": 2
}
