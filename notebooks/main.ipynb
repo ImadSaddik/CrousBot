{
 "cells": [
  {
   "cell_type": "code",
   "execution_count": 11,
   "metadata": {},
   "outputs": [
    {
     "data": {
      "text/plain": [
       "True"
      ]
     },
     "execution_count": 11,
     "metadata": {},
     "output_type": "execute_result"
    }
   ],
   "source": [
    "import os\n",
    "import time\n",
    "import requests\n",
    "from bs4 import BeautifulSoup\n",
    "\n",
    "from dotenv import load_dotenv\n",
    "\n",
    "import smtplib\n",
    "from email.mime.text import MIMEText\n",
    "from email.mime.multipart import MIMEMultipart\n",
    "\n",
    "load_dotenv()"
   ]
  },
  {
   "cell_type": "code",
   "execution_count": 12,
   "metadata": {},
   "outputs": [],
   "source": [
    "import logging\n",
    "from logging.handlers import RotatingFileHandler\n",
    "\n",
    "logger = logging.getLogger(__name__)\n",
    "logger.setLevel(logging.DEBUG)\n",
    "\n",
    "file_formatter = logging.Formatter(\n",
    "    \"%(asctime)s - %(name)s - %(levelname)s - %(message)s\")\n",
    "log_dir = os.path.join(os.getcwd(), \"..\", \"logs\")\n",
    "file_handler = RotatingFileHandler(\n",
    "    filename=os.path.join(log_dir, \"scraper.log\"),\n",
    "    maxBytes=10*1024*1024,\n",
    "    backupCount=5\n",
    ")\n",
    "file_handler.setLevel(logging.DEBUG)\n",
    "file_handler.setFormatter(file_formatter)\n",
    "\n",
    "logger.addHandler(file_handler)"
   ]
  },
  {
   "cell_type": "code",
   "execution_count": null,
   "metadata": {},
   "outputs": [],
   "source": [
    "import time\n",
    "import traceback\n",
    "\n",
    "\n",
    "def check_for_new_offers(location, url):\n",
    "    response = requests.get(url)\n",
    "\n",
    "    if response.status_code == 200:\n",
    "        soup = BeautifulSoup(response.text, \"html.parser\")\n",
    "        search_result = soup.find(\"h2\", class_=\"SearchResults-desktop\")\n",
    "\n",
    "        if search_result:\n",
    "            message = search_result.get_text(strip=True)\n",
    "\n",
    "            if \"Aucun logement\" not in message:\n",
    "                individual_appartments_counter = get_inidividual_appartment_offers_count(\n",
    "                    soup)\n",
    "\n",
    "                if individual_appartments_counter > 0:\n",
    "                    log_content(location, message)\n",
    "                    # send_email(location, message, url,\n",
    "                    #            os.getenv(\"RECEIVER_EMAIL\"))\n",
    "                    send_email(location, message, url, os.getenv(\"RECEIVER_EMAIL\"))\n",
    "\n",
    "\n",
    "def get_inidividual_appartment_offers_count(soup):\n",
    "    card_classes = \"fr-col-12 fr-col-sm-6 fr-col-md-4 svelte-11sc5my fr-col-lg-4\"\n",
    "    aprtment_cards = soup.find_all(\"li\", class_=card_classes)\n",
    "\n",
    "    individual_appartments_counter = 0\n",
    "    for card in aprtment_cards:\n",
    "        card_detail_classes = \"fr-card__detail fr-icon-group-fill\"\n",
    "        card_detail = card.find(\"p\", class_=card_detail_classes)\n",
    "        apartment_title = card.find(\n",
    "            \"h3\", class_=\"fr-card__title\").get_text(strip=True)\n",
    "\n",
    "        if apartment_title in [\"TOLBIAC\"]:\n",
    "            continue\n",
    "\n",
    "        card_colocation_or_individual_text = card_detail.get_text(strip=True)\n",
    "        # if card_colocation_or_individual_text == \"Colocation\":\n",
    "        #     continue\n",
    "        # elif card_colocation_or_individual_text == \"Individuel\":\n",
    "\n",
    "        log_content(\"Individual Appartment found\", apartment_title)\n",
    "        individual_appartments_counter += 1\n",
    "\n",
    "    return individual_appartments_counter\n",
    "\n",
    "\n",
    "def log_content(location, message):\n",
    "    timestamp = time.strftime(\"%Y-%m-%d %H:%M:%S\")\n",
    "    log_entry = f\"{timestamp} - {location}: {message}\\n\"\n",
    "\n",
    "    logger.info(log_entry)\n",
    "    print(log_entry)\n",
    "\n",
    "\n",
    "def send_email(location, message, url, receiver_email):\n",
    "    sender_email = os.getenv(\"SENDER_EMAIL\")\n",
    "    sender_password = os.getenv(\"SENDER_PASSWORD\")\n",
    "\n",
    "    subject = \"New Apartment Offers\"\n",
    "    body = f\"There are new apartment offers in \\\n",
    "        {location}: {message}\\nurl : {url}\"\n",
    "\n",
    "    msg = MIMEMultipart()\n",
    "    msg[\"From\"] = sender_email\n",
    "    msg[\"To\"] = receiver_email\n",
    "    msg[\"Subject\"] = subject\n",
    "\n",
    "    msg.attach(MIMEText(body, \"plain\"))\n",
    "\n",
    "    try:\n",
    "        with smtplib.SMTP(\"smtp.gmail.com\", 587) as server:\n",
    "            server.starttls()\n",
    "            server.login(sender_email, sender_password)\n",
    "            text = msg.as_string()\n",
    "            server.sendmail(sender_email, receiver_email, text)\n",
    "            print(\"*\"*50)\n",
    "            print(f\"Email notification sent for {location}\")\n",
    "    except Exception as e:\n",
    "        print(f\"Error sending email: {e}\")\n",
    "        traceback.print_exc()"
   ]
  },
  {
   "cell_type": "code",
   "execution_count": 14,
   "metadata": {},
   "outputs": [],
   "source": [
    "url_1 = \"https://trouverunlogement.lescrous.fr/tools/37/search?bounds=2.224122_48.902156_2.4697602_48.8155755\"\n",
    "url_2 = \"https://trouverunlogement.lescrous.fr/tools/37/search?bounds=2.3456154_48.8420887_2.3481533_48.8407925\"\n",
    "url_3 = \"https://trouverunlogement.lescrous.fr/tools/37/search?bounds=2.3475418_48.8403664_2.349218_48.8392315\"\n",
    "url_4 = \"https://trouverunlogement.lescrous.fr/tools/37/search?bounds=2.338511_48.8460901_2.3398229_48.8446256\"\n",
    "url_5 = \"https://trouverunlogement.lescrous.fr/tools/37/search?bounds=2.3426248_48.8441866_2.3447498_48.8435835\"\n",
    "url_6 = \"https://trouverunlogement.lescrous.fr/tools/37/search?bounds=2.2723279_48.8710747_2.2745213_48.8691568\"\n",
    "url_7 = \"https://trouverunlogement.lescrous.fr/tools/37/search?bounds=2.3290562_48.849943_2.3309234_48.8479074\"\n",
    "url_8 = \"https://trouverunlogement.lescrous.fr/tools/37/search?bounds=2.3453689_48.8276182_2.3469872_48.8259151\"\n",
    "url_9 = \"https://trouverunlogement.lescrous.fr/tools/37/search?bounds=2.4130316_48.6485333_2.4705092_48.6109217\"\n",
    "\n",
    "locations = {\n",
    "    \"Paris\": url_1,\n",
    "    \"ESPCI Paris, Paris\": url_2,\n",
    "    \"AgroParisTech, Paris\": url_3,\n",
    "    \"MINES ParisTech, Paris\": url_4,\n",
    "    \"Chimie ParisTech, Paris\": url_5,\n",
    "    \"Université Paris-Dauphine, Paris\": url_6,\n",
    "    \"Institut Catholique de Paris, Paris\": url_7,\n",
    "    \"Télécom ParisTech, Paris\": url_8,\n",
    "    \"Evry\": url_9\n",
    "}"
   ]
  },
  {
   "cell_type": "code",
   "execution_count": 15,
   "metadata": {},
   "outputs": [
    {
     "ename": "KeyboardInterrupt",
     "evalue": "",
     "output_type": "error",
     "traceback": [
      "\u001b[0;31m---------------------------------------------------------------------------\u001b[0m",
      "\u001b[0;31mKeyboardInterrupt\u001b[0m                         Traceback (most recent call last)",
      "Cell \u001b[0;32mIn[15], line 6\u001b[0m\n\u001b[1;32m      3\u001b[0m \u001b[38;5;28;01mfor\u001b[39;00m location, url \u001b[38;5;129;01min\u001b[39;00m locations\u001b[38;5;241m.\u001b[39mitems():\n\u001b[1;32m      4\u001b[0m     check_for_new_offers(location, url)\n\u001b[0;32m----> 6\u001b[0m time\u001b[38;5;241m.\u001b[39msleep(\u001b[38;5;241m30\u001b[39m)\n",
      "\u001b[0;31mKeyboardInterrupt\u001b[0m: "
     ]
    }
   ],
   "source": [
    "logger.info(\"Starting the scraper\")\n",
    "while True:\n",
    "    for location, url in locations.items():\n",
    "        check_for_new_offers(location, url)\n",
    "\n",
    "    time.sleep(30)"
   ]
  }
 ],
 "metadata": {
  "kernelspec": {
   "display_name": "crous_bot",
   "language": "python",
   "name": "python3"
  },
  "language_info": {
   "codemirror_mode": {
    "name": "ipython",
    "version": 3
   },
   "file_extension": ".py",
   "mimetype": "text/x-python",
   "name": "python",
   "nbconvert_exporter": "python",
   "pygments_lexer": "ipython3",
   "version": "3.11.9"
  }
 },
 "nbformat": 4,
 "nbformat_minor": 2
}
