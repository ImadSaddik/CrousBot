{
 "cells": [
  {
   "cell_type": "code",
   "execution_count": 17,
   "metadata": {},
   "outputs": [
    {
     "data": {
      "text/plain": [
       "True"
      ]
     },
     "execution_count": 17,
     "metadata": {},
     "output_type": "execute_result"
    }
   ],
   "source": [
    "import os\n",
    "import time\n",
    "import requests\n",
    "from bs4 import BeautifulSoup\n",
    "\n",
    "from dotenv import load_dotenv\n",
    "\n",
    "import smtplib\n",
    "from email.mime.text import MIMEText\n",
    "from email.mime.multipart import MIMEMultipart\n",
    "\n",
    "load_dotenv()"
   ]
  },
  {
   "cell_type": "code",
   "execution_count": 18,
   "metadata": {},
   "outputs": [],
   "source": [
    "import logging\n",
    "from logging.handlers import RotatingFileHandler\n",
    "\n",
    "logger = logging.getLogger(__name__)\n",
    "logger.setLevel(logging.DEBUG)\n",
    "\n",
    "file_formatter = logging.Formatter(\n",
    "    \"%(asctime)s - %(name)s - %(levelname)s - %(message)s\")\n",
    "log_dir = os.path.join(os.getcwd(), \"..\" , \"logs\")\n",
    "file_handler = RotatingFileHandler(\n",
    "    filename=os.path.join(log_dir, \"scraper.log\"),\n",
    "    maxBytes=10*1024*1024,\n",
    "    backupCount=5\n",
    ")\n",
    "file_handler.setLevel(logging.DEBUG)\n",
    "file_handler.setFormatter(file_formatter)\n",
    "\n",
    "logger.addHandler(file_handler)"
   ]
  },
  {
   "cell_type": "code",
   "execution_count": 19,
   "metadata": {},
   "outputs": [],
   "source": [
    "import traceback\n",
    "\n",
    "\n",
    "def check_for_new_offers(location, url):\n",
    "    response = requests.get(url)\n",
    "\n",
    "    if response.status_code == 200:\n",
    "        soup = BeautifulSoup(response.text, \"html.parser\")\n",
    "        search_result = soup.find(\"h2\", class_=\"SearchResults-desktop\")\n",
    "\n",
    "        if search_result:\n",
    "            message = search_result.get_text(strip=True)\n",
    "\n",
    "            if \"Aucun logement\" not in message:\n",
    "                individual_appartments_counter = get_inidividual_appartment_offers_count(\n",
    "                    soup)\n",
    "\n",
    "                if individual_appartments_counter > 0:\n",
    "                    log_content(location, message)\n",
    "                    send_email(location, message, url, os.getenv(\"RECEIVER_EMAIL\"))\n",
    "                    send_email(location, message, url, \"simad3647@gmail.com\")\n",
    "\n",
    "\n",
    "def get_inidividual_appartment_offers_count(soup):\n",
    "    card_classes = \"fr-col-12 fr-col-sm-6 fr-col-md-4 svelte-11sc5my fr-col-lg-4\"\n",
    "    aprtment_cards = soup.find_all(\"li\", class_=card_classes)\n",
    "\n",
    "    individual_appartments_counter = 0\n",
    "    for card in aprtment_cards:\n",
    "        card_detail_classes = \"fr-card__detail fr-icon-group-fill\"\n",
    "        card_detail = card.find(\"p\", class_=card_detail_classes)\n",
    "        card_colocation_or_individual_text = card_detail.get_text(strip=True)\n",
    "\n",
    "        if card_colocation_or_individual_text == \"Colocation\":\n",
    "            continue\n",
    "        elif card_colocation_or_individual_text == \"Individuel\":\n",
    "            apartment_title = card.find(\n",
    "                \"h3\", class_=\"fr-card__title\").get_text(strip=True)\n",
    "            if check_if_new_offers_available(card):\n",
    "                log_content(\"Individual Appartment found\", apartment_title)\n",
    "                individual_appartments_counter += 1\n",
    "\n",
    "    return individual_appartments_counter\n",
    "\n",
    "\n",
    "def check_if_new_offers_available(card):\n",
    "    apartment_link = card.find(\"a\")[\"href\"]\n",
    "    appartment_offer_page = f\"\"\"https://trouverunlogement.lescrous.fr{\n",
    "        apartment_link}\"\"\"\n",
    "\n",
    "    response = requests.get(appartment_offer_page)\n",
    "    if response.status_code == 200:\n",
    "        soup = BeautifulSoup(response.text, \"html.parser\")\n",
    "\n",
    "        button_container = soup.find(\"div\", class_=\"fr-mb-3w\")\n",
    "        button = button_container.find(\n",
    "            \"button\", class_=\"svelte-eq6rxe fr-btn\")\n",
    "        span = button.find(\"span\", class_=\"svelte-eq6rxe\")\n",
    "        span_text = span.get_text(strip=True)\n",
    "        if span_text != \"Indisponible\":\n",
    "            return True\n",
    "        \n",
    "    return False\n",
    "\n",
    "\n",
    "def log_content(location, message):\n",
    "    log_entry = f\"{location.ljust(60)}: {message}\\n\"\n",
    "    logger.info(log_entry)\n",
    "\n",
    "\n",
    "def send_email(location, message, url, receiver_email):\n",
    "    sender_email = os.getenv(\"SENDER_EMAIL\")\n",
    "    sender_password = os.getenv(\"SENDER_PASSWORD\")\n",
    "\n",
    "    subject = \"New Apartment Offers\"\n",
    "    body = f\"There are new apartment offers in \\\n",
    "        {location}: {message}\\nurl : {url}\"\n",
    "\n",
    "    msg = MIMEMultipart()\n",
    "    msg[\"From\"] = sender_email\n",
    "    msg[\"To\"] = receiver_email\n",
    "    msg[\"Subject\"] = subject\n",
    "\n",
    "    msg.attach(MIMEText(body, \"plain\"))\n",
    "\n",
    "    try:\n",
    "        with smtplib.SMTP(\"smtp.gmail.com\", 587) as server:\n",
    "            server.starttls()\n",
    "            server.login(sender_email, sender_password)\n",
    "            text = msg.as_string()\n",
    "            server.sendmail(sender_email, receiver_email, text)\n",
    "            print(f\"Email notification sent for {location}\")\n",
    "    except Exception as e:\n",
    "        print(f\"Error sending email: {e}\")\n",
    "        traceback.print_exc()"
   ]
  },
  {
   "cell_type": "code",
   "execution_count": 20,
   "metadata": {},
   "outputs": [],
   "source": [
    "url_1 = \"https://trouverunlogement.lescrous.fr/tools/36/search?bounds=2.4130316_48.6485333_2.4705092_48.6109217\"\n",
    "\n",
    "locations = {\n",
    "    \"Evry\": url_1,\n",
    "}"
   ]
  },
  {
   "cell_type": "code",
   "execution_count": 21,
   "metadata": {},
   "outputs": [
    {
     "ename": "KeyboardInterrupt",
     "evalue": "",
     "output_type": "error",
     "traceback": [
      "\u001b[0;31m---------------------------------------------------------------------------\u001b[0m",
      "\u001b[0;31mKeyboardInterrupt\u001b[0m                         Traceback (most recent call last)",
      "Cell \u001b[0;32mIn[21], line 6\u001b[0m\n\u001b[1;32m      3\u001b[0m \u001b[38;5;28;01mfor\u001b[39;00m location, url \u001b[38;5;129;01min\u001b[39;00m locations\u001b[38;5;241m.\u001b[39mitems():\n\u001b[1;32m      4\u001b[0m     check_for_new_offers(location, url)\n\u001b[0;32m----> 6\u001b[0m \u001b[43mtime\u001b[49m\u001b[38;5;241;43m.\u001b[39;49m\u001b[43msleep\u001b[49m\u001b[43m(\u001b[49m\u001b[38;5;241;43m60\u001b[39;49m\u001b[43m)\u001b[49m\n",
      "\u001b[0;31mKeyboardInterrupt\u001b[0m: "
     ]
    }
   ],
   "source": [
    "logger.info(\"Starting the scraper\")\n",
    "while True:\n",
    "    for location, url in locations.items():\n",
    "        check_for_new_offers(location, url)\n",
    "\n",
    "    time.sleep(60)"
   ]
  },
  {
   "cell_type": "code",
   "execution_count": null,
   "metadata": {},
   "outputs": [],
   "source": []
  }
 ],
 "metadata": {
  "kernelspec": {
   "display_name": "apod",
   "language": "python",
   "name": "python3"
  },
  "language_info": {
   "codemirror_mode": {
    "name": "ipython",
    "version": 3
   },
   "file_extension": ".py",
   "mimetype": "text/x-python",
   "name": "python",
   "nbconvert_exporter": "python",
   "pygments_lexer": "ipython3",
   "version": "3.11.9"
  }
 },
 "nbformat": 4,
 "nbformat_minor": 2
}
