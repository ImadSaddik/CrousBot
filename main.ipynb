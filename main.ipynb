{
 "cells": [
  {
   "cell_type": "code",
   "execution_count": 10,
   "metadata": {},
   "outputs": [
    {
     "data": {
      "text/plain": [
       "True"
      ]
     },
     "execution_count": 10,
     "metadata": {},
     "output_type": "execute_result"
    }
   ],
   "source": [
    "import os\n",
    "import time\n",
    "import requests\n",
    "from bs4 import BeautifulSoup\n",
    "\n",
    "from dotenv import load_dotenv\n",
    "\n",
    "import smtplib\n",
    "from email.mime.text import MIMEText\n",
    "from email.mime.multipart import MIMEMultipart\n",
    "\n",
    "load_dotenv()"
   ]
  },
  {
   "cell_type": "code",
   "execution_count": 11,
   "metadata": {},
   "outputs": [],
   "source": [
    "import logging\n",
    "from logging.handlers import RotatingFileHandler\n",
    "\n",
    "logger = logging.getLogger(__name__)\n",
    "logger.setLevel(logging.DEBUG)\n",
    "\n",
    "file_formatter = logging.Formatter(\n",
    "    \"%(asctime)s - %(name)s - %(levelname)s - %(message)s\")\n",
    "log_dir = os.path.join(os.getcwd(), \"logs\")\n",
    "file_handler = RotatingFileHandler(\n",
    "    filename=os.path.join(log_dir, \"scraper.log\"),\n",
    "    maxBytes=10*1024*1024,\n",
    "    backupCount=5\n",
    ")\n",
    "file_handler.setLevel(logging.DEBUG)\n",
    "file_handler.setFormatter(file_formatter)\n",
    "\n",
    "logger.addHandler(file_handler)"
   ]
  },
  {
   "cell_type": "code",
   "execution_count": 14,
   "metadata": {},
   "outputs": [],
   "source": [
    "def check_for_new_offers(location, url):\n",
    "    response = requests.get(url)\n",
    "\n",
    "    if response.status_code == 200:\n",
    "        soup = BeautifulSoup(response.text, \"html.parser\")\n",
    "        search_result = soup.find(\"h2\", class_=\"SearchResults-desktop\")\n",
    "\n",
    "        if search_result:\n",
    "            message = search_result.get_text(strip=True)\n",
    "\n",
    "            if \"Aucun logement\" not in message:\n",
    "                log_content(location, message)\n",
    "                send_email(location, message, url, os.getenv(\"RECEIVER_EMAIL\"))\n",
    "\n",
    "\n",
    "def log_content(location, message):\n",
    "    log_entry = f\"{location.ljust(60)}: {message}\\n\"\n",
    "    logger.info(log_entry)\n",
    "\n",
    "\n",
    "def send_email(location, message, url, receiver_email):\n",
    "    sender_email = os.getenv(\"SENDER_EMAIL\")\n",
    "    sender_password = os.getenv(\"SENDER_PASSWORD\")\n",
    "\n",
    "    subject = \"New Apartment Offers\"\n",
    "    body = f\"There are new apartment offers in \\\n",
    "        {location}: {message}\\nurl : {url}\"\n",
    "\n",
    "    msg = MIMEMultipart()\n",
    "    msg[\"From\"] = sender_email\n",
    "    msg[\"To\"] = receiver_email\n",
    "    msg[\"Subject\"] = subject\n",
    "\n",
    "    msg.attach(MIMEText(body, \"plain\"))\n",
    "\n",
    "    try:\n",
    "        with smtplib.SMTP(\"smtp.gmail.com\", 587) as server:\n",
    "            server.starttls()\n",
    "            server.login(sender_email, sender_password)\n",
    "            text = msg.as_string()\n",
    "            server.sendmail(sender_email, receiver_email, text)\n",
    "            print(f\"Email notification sent for {location}\")\n",
    "    except Exception as e:\n",
    "        print(f\"Error sending email: {str(e)}\")"
   ]
  },
  {
   "cell_type": "code",
   "execution_count": 15,
   "metadata": {},
   "outputs": [],
   "source": [
    "url_1 = \"https://trouverunlogement.lescrous.fr/tools/32/search?bounds=7.6881371_48.6461896_7.8360646_48.491861\"\n",
    "url_2 = \"https://trouverunlogement.lescrous.fr/tools/32/search?bounds=7.7553056_48.5875003_7.7563369_48.5868378\"\n",
    "url_3 = \"https://trouverunlogement.lescrous.fr/tools/32/search?bounds=7.681771588321607_48.628345309716735_7.817717211678392_48.53841329028326\"\n",
    "url_4 = \"https://trouverunlogement.lescrous.fr/tools/32/search?bounds=7.7368076_48.5863384_7.7378865_48.5856638\"\n",
    "url_5 = \"https://trouverunlogement.lescrous.fr/tools/32/search?bounds=7.7011138_48.635168_7.803662_48.5981431\"\n",
    "url_6 = \"https://trouverunlogement.lescrous.fr/tools/32/search?bounds=7.6605309_48.5695747_7.7068096_48.5389959\"\n",
    "url_7 = \"https://trouverunlogement.lescrous.fr/tools/32/search?bounds=7.6659373_48.6211944_7.708777_48.5972107\"\n",
    "url_8 = \"https://trouverunlogement.lescrous.fr/tools/32/search?bounds=7.6887965_48.6323965_7.7216977_48.6143763\"\n",
    "\n",
    "locations = {\n",
    "    \"Strasbourg\": url_1,\n",
    "    \"Bibliothque_nationale_universitaire_de_strasbourg\": url_2,\n",
    "    \"Epitech_strasbourg\": url_3,\n",
    "    \"Ecole_nationale_superieure_d_architecture_de_strasbourg\": url_4,\n",
    "    \"Schiltigheim\": url_5,\n",
    "    \"Lingolsheim\": url_6,\n",
    "    \"Oberhausbergen\": url_7,\n",
    "    \"Niederhausbergen\": url_8,\n",
    "}"
   ]
  },
  {
   "cell_type": "code",
   "execution_count": 17,
   "metadata": {},
   "outputs": [
    {
     "ename": "KeyboardInterrupt",
     "evalue": "",
     "output_type": "error",
     "traceback": [
      "\u001b[0;31m---------------------------------------------------------------------------\u001b[0m",
      "\u001b[0;31mKeyboardInterrupt\u001b[0m                         Traceback (most recent call last)",
      "Cell \u001b[0;32mIn[17], line 6\u001b[0m\n\u001b[1;32m      3\u001b[0m \u001b[38;5;28;01mfor\u001b[39;00m location, url \u001b[38;5;129;01min\u001b[39;00m locations\u001b[38;5;241m.\u001b[39mitems():\n\u001b[1;32m      4\u001b[0m     check_for_new_offers(location, url)\n\u001b[0;32m----> 6\u001b[0m time\u001b[38;5;241m.\u001b[39msleep(\u001b[38;5;241m60\u001b[39m)\n",
      "\u001b[0;31mKeyboardInterrupt\u001b[0m: "
     ]
    }
   ],
   "source": [
    "logger.info(\"Starting the scraper\")\n",
    "while True:\n",
    "    for location, url in locations.items():\n",
    "        check_for_new_offers(location, url)\n",
    "\n",
    "    time.sleep(60)"
   ]
  }
 ],
 "metadata": {
  "kernelspec": {
   "display_name": "apod",
   "language": "python",
   "name": "python3"
  },
  "language_info": {
   "codemirror_mode": {
    "name": "ipython",
    "version": 3
   },
   "file_extension": ".py",
   "mimetype": "text/x-python",
   "name": "python",
   "nbconvert_exporter": "python",
   "pygments_lexer": "ipython3",
   "version": "3.11.4"
  }
 },
 "nbformat": 4,
 "nbformat_minor": 2
}
